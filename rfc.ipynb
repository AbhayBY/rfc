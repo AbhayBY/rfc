{
 "cells": [
  {
   "cell_type": "code",
   "execution_count": 7,
   "id": "bb551b86",
   "metadata": {},
   "outputs": [],
   "source": [
    "import pandas as pd\n",
    "from sklearn.ensemble import RandomForestClassifier\n",
    "from sklearn.tree import DecisionTreeClassifier\n",
    "from sklearn.preprocessing import StandardScaler\n",
    "from sklearn.metrics import accuracy_score\n",
    "from sklearn.model_selection import train_test_split\n",
    "\n",
    "\n"
   ]
  },
  {
   "cell_type": "code",
   "execution_count": 8,
   "id": "5ab3d05b",
   "metadata": {},
   "outputs": [
    {
     "name": "stderr",
     "output_type": "stream",
     "text": [
      "C:\\Users\\abhay\\AppData\\Local\\Temp/ipykernel_3660/1024515649.py:3: FutureWarning: In a future version of pandas all arguments of DataFrame.drop except for the argument 'labels' will be keyword-only\n",
      "  X = data.drop('Outcome', 1)\n"
     ]
    }
   ],
   "source": [
    "data = pd.read_csv('C:/Users/abhay/Untitled Folder/pima.csv')\n",
    "y = data['Outcome']\n",
    "X = data.drop('Outcome', 1)"
   ]
  },
  {
   "cell_type": "code",
   "execution_count": 9,
   "id": "25eeb436",
   "metadata": {},
   "outputs": [
    {
     "name": "stdout",
     "output_type": "stream",
     "text": [
      "Accuracy:  0.7760416666666666\n",
      "                   Features  Importance\n",
      "1                   Glucose    0.253352\n",
      "5                       BMI    0.170570\n",
      "7                       Age    0.141278\n",
      "6  DiabetesPedigreeFunction    0.121655\n",
      "2             BloodPressure    0.091473\n",
      "0               Pregnancies    0.085942\n",
      "3             SkinThickness    0.068363\n",
      "4                   Insulin    0.067368\n",
      "Accuracy:  0.6666666666666666\n"
     ]
    }
   ],
   "source": [
    "scaleX = StandardScaler().fit_transform(X)\n",
    "xtrain, xtest, ytrain, ytest = train_test_split(X, y, test_size=0.25)\n",
    "\n",
    "rfc = RandomForestClassifier()\n",
    "rfc.fit(xtrain, ytrain)\n",
    "ypred = rfc.predict(xtest)\n",
    "print(\"Accuracy: \", accuracy_score(ytest, ypred))\n",
    "\n",
    "imp_features = pd.DataFrame({'Features':X.columns, 'Importance':rfc.feature_importances_}).sort_values('Importance', ascending=False)\n",
    "print(imp_features)\n",
    "\n",
    "dt = DecisionTreeClassifier()\n",
    "dt.fit(xtrain, ytrain)\n",
    "ypred_1 = dt.predict(xtest)\n",
    "print(\"Accuracy: \", accuracy_score(ytest, ypred_1))"
   ]
  },
  {
   "cell_type": "code",
   "execution_count": null,
   "id": "8ea42c1e",
   "metadata": {},
   "outputs": [],
   "source": []
  },
  {
   "cell_type": "code",
   "execution_count": null,
   "id": "342a40e2",
   "metadata": {},
   "outputs": [],
   "source": []
  }
 ],
 "metadata": {
  "kernelspec": {
   "display_name": "Python 3 (ipykernel)",
   "language": "python",
   "name": "python3"
  },
  "language_info": {
   "codemirror_mode": {
    "name": "ipython",
    "version": 3
   },
   "file_extension": ".py",
   "mimetype": "text/x-python",
   "name": "python",
   "nbconvert_exporter": "python",
   "pygments_lexer": "ipython3",
   "version": "3.9.7"
  }
 },
 "nbformat": 4,
 "nbformat_minor": 5
}
